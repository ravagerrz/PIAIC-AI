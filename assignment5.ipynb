{
 "cells": [
  {
   "cell_type": "markdown",
   "metadata": {},
   "source": [
    "\n",
    "## Calculate area of circle\n"
   ]
  },
  {
   "cell_type": "code",
   "execution_count": 5,
   "metadata": {},
   "outputs": [
    {
     "name": "stdout",
     "output_type": "stream",
     "text": [
      "The of circle is 237.66659999999996\n",
      "The of circle is 265.76959999999997\n",
      "The of circle is 806.8572260000002\n"
     ]
    },
    {
     "data": {
      "text/plain": [
       "806.8572260000002"
      ]
     },
     "execution_count": 5,
     "metadata": {},
     "output_type": "execute_result"
    }
   ],
   "source": [
    "def calcArea (rad):\n",
    "    pi = 3.14\n",
    "    area = 3.14 * (rad *rad)\n",
    "    print (\"The of circle is\",area)\n",
    "    return area\n",
    "calcArea(8.7)\n",
    "calcArea(9.2)\n",
    "calcArea(16.03)"
   ]
  },
  {
   "cell_type": "markdown",
   "metadata": {},
   "source": [
    "## Write function to check if a value exists in a list"
   ]
  },
  {
   "cell_type": "code",
   "execution_count": 11,
   "metadata": {},
   "outputs": [
    {
     "name": "stdout",
     "output_type": "stream",
     "text": [
      "Your finding number is python\n",
      "Your finding number is html\n",
      "Your finding number is c\n"
     ]
    },
    {
     "data": {
      "text/plain": [
       "'c'"
      ]
     },
     "execution_count": 11,
     "metadata": {},
     "output_type": "execute_result"
    }
   ],
   "source": [
    "def checkVal (lst,var):\n",
    "    for i in lst:\n",
    "        if i == var:\n",
    "            print (\"Your finding number is\",i)\n",
    "            return i\n",
    "data = [\"python\", \"r\", \"java\", \"pascal\", \"c\", \"javascript\", \"assembley\", \"html\", \"c++\"]\n",
    "checkVal(data,\"python\")\n",
    "checkVal(data,\"html\")\n",
    "checkVal(data,\"c\")"
   ]
  },
  {
   "cell_type": "markdown",
   "metadata": {},
   "source": [
    "## Write a function to shift list item to right n times"
   ]
  },
  {
   "cell_type": "code",
   "execution_count": 75,
   "metadata": {},
   "outputs": [
    {
     "name": "stdout",
     "output_type": "stream",
     "text": [
      "['c++', 'python', 'r', 'java', 'pascal', 'c', 'javascript', 'assembley', 'html']\n"
     ]
    }
   ],
   "source": [
    "def shiftItems (lst1,n):\n",
    "    lst_len = len(lst1)\n",
    "    lst_len = lst_len - n\n",
    "    temp_lst = []\n",
    "    for i in range(lst_len,len(lst1)):\n",
    "        temp_lst.append(lst1[i])\n",
    "    for k in range (0,n):\n",
    "        del lst1[-1]\n",
    "    for j in range (0,lst_len):\n",
    "        temp_lst.append(lst1[j])\n",
    "    print (temp_lst)\n",
    "\n",
    "data = [\"python\", \"r\", \"java\", \"pascal\", \"c\", \"javascript\", \"assembley\", \"html\", \"c++\"]\n",
    "#shiftItems(data,3)\n",
    "shiftItems(data,1)"
   ]
  },
  {
   "cell_type": "markdown",
   "metadata": {},
   "source": [
    "## Use while loop to get data "
   ]
  },
  {
   "cell_type": "code",
   "execution_count": 89,
   "metadata": {},
   "outputs": [
    {
     "name": "stdout",
     "output_type": "stream",
     "text": [
      "Enter input for radius/quit for exit:2.8\n",
      "The of circle is 24.6176\n",
      "Enter input for radius/quit for exit:3.5\n",
      "The of circle is 38.465\n",
      "Enter input for radius/quit for exit:quit\n",
      "you are successfully exit\n"
     ]
    }
   ],
   "source": [
    "def calcArea (rad):\n",
    "    pi = 3.14\n",
    "    area = 3.14 * (rad *rad)\n",
    "    print (\"The of circle is\",area)\n",
    "    return area\n",
    "check =-1\n",
    "while check!=\"quit\":\n",
    "    check = input(\"Enter input for radius/quit for exit:\")\n",
    "    if check == \"quit\":\n",
    "        break\n",
    "    else:\n",
    "        check = float(check)\n",
    "        calcArea(check)\n",
    "print (\"you are successfully exit\")"
   ]
  },
  {
   "cell_type": "markdown",
   "metadata": {},
   "source": [
    "## Function with **kwargs"
   ]
  },
  {
   "cell_type": "code",
   "execution_count": 69,
   "metadata": {},
   "outputs": [
    {
     "name": "stdout",
     "output_type": "stream",
     "text": [
      "Hello Ali\n",
      "Here is your result for class of AI .\n",
      "Your score card is as follows.\n",
      "ClassMarks:\n",
      "    math 50\n",
      "    physics 80\n",
      "    biology 90\n",
      "    computer 67\n",
      "Total marks are: 287\n",
      "Percentage is as follows: 71.75 %\n",
      "Maximum marks are in biology\n",
      "Mininmum marks are in math\n",
      "You are promoted to next class\n"
     ]
    }
   ],
   "source": [
    "name = \"Ali\" \n",
    "class1 = \"AI\" \n",
    "marks = {\"math\" : 50, \"physics\" : 80, \"biology\" : 90, \"computer\" : 67}\n",
    "date = \"1 Feb 2020\"\n",
    "nextClass = True\n",
    "def max_marks(num):\n",
    "    t_marks = 0\n",
    "    total =  0\n",
    "    MaxDictVal=0\n",
    "    for key,value in num.items():\n",
    "        total += 100\n",
    "        t_marks += value\n",
    "    print (\"Total marks are:\",t_marks)\n",
    "    print (\"Percentage is as follows:\",(t_marks/total)*100,\"%\")\n",
    "    max_value = max(num, key=num.get)\n",
    "    min_value = min(num, key=num.get)\n",
    "    print(\"Maximum marks are in\",max_value)\n",
    "    print(\"Mininmum marks are in\",min_value)\n",
    "def showDetails(**kwargs):\n",
    "        print (\"Hello\",name)\n",
    "        print (\"Here is your result for class of\",class1,\".\")\n",
    "        print (\"Your score card is as follows.\")\n",
    "        print (\"ClassMarks:\")\n",
    "        for key,value in marks.items():\n",
    "            print (\"   \",key,value)\n",
    "        max_marks(marks)\n",
    "        if nextClass== True:\n",
    "            print (\"You are promoted to next class\")\n",
    "        else:\n",
    "            print (\"You are not promoted to next class\")\n",
    "showDetails(name = \"Ali\", class1 = \"AI\", marks = {\"math\" : 50, \"physics\" : 80, \"biology\" : 90, \"computer\" : 67}, date = \"1 Feb 2020\", nextClass = True)  "
   ]
  },
  {
   "cell_type": "code",
   "execution_count": 27,
   "metadata": {},
   "outputs": [
    {
     "name": "stdout",
     "output_type": "stream",
     "text": [
      "Ali\n"
     ]
    }
   ],
   "source": [
    "\n",
    "def showDetails(**kwargs):\n",
    "    print(name)\n",
    "    #for key,value in kwargs.items():\n",
    "        #print (key,value)\n",
    "showDetails(name1 = \"Ali\", class1 = \"AI\", marks = {\"math\" : 50, \"physics\" : 80, \"biology\" : 90, \"computer\" : 67}, date = \"1 Feb 2020\", nextClass = True)  "
   ]
  },
  {
   "cell_type": "code",
   "execution_count": null,
   "metadata": {},
   "outputs": [],
   "source": []
  }
 ],
 "metadata": {
  "kernelspec": {
   "display_name": "Python 3",
   "language": "python",
   "name": "python3"
  },
  "language_info": {
   "codemirror_mode": {
    "name": "ipython",
    "version": 3
   },
   "file_extension": ".py",
   "mimetype": "text/x-python",
   "name": "python",
   "nbconvert_exporter": "python",
   "pygments_lexer": "ipython3",
   "version": "3.7.4"
  }
 },
 "nbformat": 4,
 "nbformat_minor": 2
}
