{
 "cells": [
  {
   "cell_type": "code",
   "execution_count": 14,
   "metadata": {},
   "outputs": [],
   "source": [
    "name = \"Usama Bin Haider\"\n",
    "age = \"21\"\n",
    "class1 = \"BsCS\"\n",
    "university = \"FAST\"\n"
   ]
  },
  {
   "cell_type": "code",
   "execution_count": 16,
   "metadata": {},
   "outputs": [
    {
     "name": "stdout",
     "output_type": "stream",
     "text": [
      "Hello  Usama Bin Haider\n",
      "21\n",
      "BsCS\n",
      "You application is accepted for artificial intelligence in  FAST\n"
     ]
    }
   ],
   "source": [
    "print (\"Hello \",name)\n",
    "print (age)\n",
    "print (class1)\n",
    "print (\"You application is accepted for artificial intelligence in \",university)"
   ]
  },
  {
   "cell_type": "code",
   "execution_count": null,
   "metadata": {},
   "outputs": [],
   "source": []
  }
 ],
 "metadata": {
  "kernelspec": {
   "display_name": "Python 3",
   "language": "python",
   "name": "python3"
  },
  "language_info": {
   "codemirror_mode": {
    "name": "ipython",
    "version": 3
   },
   "file_extension": ".py",
   "mimetype": "text/x-python",
   "name": "python",
   "nbconvert_exporter": "python",
   "pygments_lexer": "ipython3",
   "version": "3.7.6"
  }
 },
 "nbformat": 4,
 "nbformat_minor": 2
}
