{
 "cells": [
  {
   "cell_type": "markdown",
   "metadata": {},
   "source": [
    "# Indexing"
   ]
  },
  {
   "cell_type": "code",
   "execution_count": 25,
   "metadata": {},
   "outputs": [
    {
     "name": "stdout",
     "output_type": "stream",
     "text": [
      "'Hello Ahmed   Bilal ,\n",
      "Your application is accepted for admission in  BS Computer Science in  Government College University .\n",
      "You have to submitt fee  50000 before  28 Januray 2020 .\n",
      "Your classes will start from  05 February 2020 .\n",
      "Thanks'\n"
     ]
    }
   ],
   "source": [
    "studentData = ['Ahmed', 'Bilal', 'Government College University', 'Computer Science', 'BS', 50000,'28 Januray 2020', '05 February 2020']\n",
    "print (\"'Hello\",studentData[0],\" \",studentData[1],\",\")\n",
    "print (\"Your application is accepted for admission in \",studentData[4],studentData[3],\"in \",studentData[2],\".\")\n",
    "print (\"You have to submitt fee \",studentData[5],\"before \",studentData[6],\".\")\n",
    "print (\"Your classes will start from \",studentData[7],\".\")\n",
    "print (\"Thanks'\")\n"
   ]
  },
  {
   "cell_type": "markdown",
   "metadata": {},
   "source": [
    "# Slicing"
   ]
  },
  {
   "cell_type": "code",
   "execution_count": 13,
   "metadata": {},
   "outputs": [
    {
     "name": "stdout",
     "output_type": "stream",
     "text": [
      "For positive Slicing\n",
      "1:  ['Faisalabad', 'Lahore', 'Islamabad', 'Peshawar']\n",
      "2:  ['Islamabad', 'Peshawar', 'Quetta', 'Sahiwal']\n",
      "3:  ['Sahiwal', 'Rawalpindi', 'Sialkot']\n",
      " \n",
      "For neagtive slicing\n",
      "1:  ['Quetta', 'Sahiwal', 'Rawalpindi']\n",
      "2:  ['Peshawar', 'Quetta', 'Sahiwal', 'Rawalpindi', 'Sialkot']\n"
     ]
    }
   ],
   "source": [
    "cities = [\"Faisalabad\", \"Lahore\", \"Islamabad\", \"Peshawar\", \"Quetta\", \"Sahiwal\", \"Rawalpindi\", \"Sialkot\"]\n",
    "print (\"For positive Slicing\")\n",
    "print (\"1: \",cities[0:4])\n",
    "print (\"2: \",cities[2:6])\n",
    "print (\"3: \",cities[5:])\n",
    "print(\" \")\n",
    "print (\"For neagtive slicing\")\n",
    "print (\"1: \",cities[-4:-1])\n",
    "print (\"2: \",cities[-5:])"
   ]
  },
  {
   "cell_type": "markdown",
   "metadata": {},
   "source": [
    "# 3. Update list"
   ]
  },
  {
   "cell_type": "code",
   "execution_count": 24,
   "metadata": {},
   "outputs": [
    {
     "name": "stdout",
     "output_type": "stream",
     "text": [
      "Actual List\n",
      "['Ali Raza', 22, 91.24, 'Computer Science', 5, 'University of Agriculture']\n",
      "List after append\n",
      "['Ali Raza', 22, 91.24, 'Computer Science', 5, 'University of Agriculture', '20 February 2019', 8]\n",
      "List after insert\n",
      "['Ali Raza', 22, 'M. Iqbal', 91.24, 'Computer Science', 25000, 5, 'University of Agriculture', '20 February 2019', 8]\n",
      "List after update\n",
      "['zohaib Ali', 22, 'M. Iqbal', 91.24, 'Computer Science', 25000, 7, 'University of Agriculture', '20 February 2019', 8]\n"
     ]
    }
   ],
   "source": [
    "studentData = [\"Ali Raza\", 22, 91.24, \"Computer Science\", 5, \"University of Agriculture\"]\n",
    "print (\"Actual List\")\n",
    "print (studentData)\n",
    "studentData.append('20 February 2019')\n",
    "studentData.append(8)\n",
    "print (\"List after append\")\n",
    "print (studentData)\n",
    "studentData.insert(4,25000)\n",
    "studentData.insert(2,\"M. Iqbal\")\n",
    "print (\"List after insert\")\n",
    "print (studentData)\n",
    "studentData[0] = \"zohaib Ali\"\n",
    "studentData[6] = 7\n",
    "print (\"List after update\")\n",
    "print (studentData)"
   ]
  },
  {
   "cell_type": "markdown",
   "metadata": {},
   "source": [
    "# 4. Multidimensional lists tasks"
   ]
  },
  {
   "cell_type": "code",
   "execution_count": 34,
   "metadata": {},
   "outputs": [
    {
     "name": "stdout",
     "output_type": "stream",
     "text": [
      "Ali 35000\n",
      "Talha 55000\n",
      "Nasir 79000\n",
      "Khalid 44000\n",
      "Total salary of employes is  213000\n",
      "List update task\n",
      "['Nasir', 90000, 'Product Manager']\n"
     ]
    }
   ],
   "source": [
    "employeeData = [[\"Ali\", 35000, \"Software Engineer\"],[\"Talha\", 55000, \"Product Manager\"],[\"Nasir\", 79000, \"Computer Engineer\"],[\"Khalid\", 44000, \"DBA\"]]\n",
    "totalal_salary = 0\n",
    "for i in employeeData:\n",
    "    totalal_salary += i[1]\n",
    "    if i[1]>5000:\n",
    "        print (i[0],i[1])\n",
    "print (\"Total salary of employes is \",totalal_salary)   \n",
    "\n",
    "print (\"List update task\")\n",
    "employeeData[2][1] = 90000\n",
    "employeeData[2][2] = \"Product Manager\"\n",
    "print (employeeData[2])"
   ]
  },
  {
   "cell_type": "markdown",
   "metadata": {},
   "source": [
    "# Login User"
   ]
  },
  {
   "cell_type": "code",
   "execution_count": 38,
   "metadata": {},
   "outputs": [
    {
     "name": "stdout",
     "output_type": "stream",
     "text": [
      "Email not verified\n"
     ]
    }
   ],
   "source": [
    "# Data 1\n",
    "username = \"faizan1214\"\n",
    "password = \"qwerty\"\n",
    "emailVerified = False\n",
    "if username == \"faizan1214\" and password == \"qwerty\":\n",
    "    if emailVerified == True:\n",
    "        print (\"login Succeed\")\n",
    "    else:\n",
    "        print(\"Email not verified\")\n",
    "else:\n",
    "    print (\"Incorrect Login details\")\n",
    "    \n"
   ]
  },
  {
   "cell_type": "code",
   "execution_count": 39,
   "metadata": {},
   "outputs": [
    {
     "name": "stdout",
     "output_type": "stream",
     "text": [
      "login Succeed\n"
     ]
    }
   ],
   "source": [
    "# Data 2\n",
    "username = \"faizan1214\"\n",
    "password = \"qwerty\"\n",
    "emailVerified = True\n",
    "if username == \"faizan1214\" and password == \"qwerty\":\n",
    "    if emailVerified == True:\n",
    "        print (\"login Succeed\")\n",
    "    else:\n",
    "        print(\"Email not verified\")\n",
    "else:\n",
    "    print (\"Incorrect Login details\")"
   ]
  }
 ],
 "metadata": {
  "kernelspec": {
   "display_name": "Python 3",
   "language": "python",
   "name": "python3"
  },
  "language_info": {
   "codemirror_mode": {
    "name": "ipython",
    "version": 3
   },
   "file_extension": ".py",
   "mimetype": "text/x-python",
   "name": "python",
   "nbconvert_exporter": "python",
   "pygments_lexer": "ipython3",
   "version": "3.7.4"
  }
 },
 "nbformat": 4,
 "nbformat_minor": 2
}
